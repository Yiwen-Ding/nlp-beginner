{
 "cells": [
  {
   "cell_type": "code",
   "execution_count": 1,
   "metadata": {},
   "outputs": [
    {
     "data": {
      "text/plain": [
       "'\\n实现文本分类\\n'"
      ]
     },
     "execution_count": 1,
     "metadata": {},
     "output_type": "execute_result"
    }
   ],
   "source": [
    "'''\n",
    "实现文本分类\n",
    "'''"
   ]
  },
  {
   "cell_type": "code",
   "execution_count": 2,
   "metadata": {},
   "outputs": [],
   "source": [
    "import pandas as pd\n",
    "import numpy as np\n",
    "from sklearn.model_selection import train_test_split\n",
    "import matplotlib.pyplot as plt"
   ]
  },
  {
   "cell_type": "markdown",
   "metadata": {},
   "source": [
    "## 读取数据"
   ]
  },
  {
   "cell_type": "code",
   "execution_count": 3,
   "metadata": {},
   "outputs": [],
   "source": [
    "def read_data(file_path):\n",
    "    data_all = pd.read_csv(file_path,sep='\\t')\n",
    "    print(\"data_all shape is :\",data_all.shape)\n",
    "    # x = pd.read_csv(file_path,sep='\\t',usecols = ['Phrase'])\n",
    "    # y = pd.read_csv(file_path,sep='\\t',usecols = ['Sentiment'])\n",
    "    x = data_all['Phrase'].values\n",
    "    y = data_all['Sentiment'].values\n",
    "    x = x[:1000]\n",
    "    y = y[:1000]\n",
    "    \n",
    "    return x,y"
   ]
  },
  {
   "cell_type": "markdown",
   "metadata": {},
   "source": [
    "## 文本特征表示"
   ]
  },
  {
   "cell_type": "code",
   "execution_count": 4,
   "metadata": {},
   "outputs": [
    {
     "name": "stdout",
     "output_type": "stream",
     "text": [
      "data_all shape is : (156060, 4)\n",
      "X shape is (1000,)\n",
      "y shape is (1000,)\n"
     ]
    }
   ],
   "source": [
    "train_path = 'data/train.tsv'\n",
    "X, y = read_data(train_path)\n",
    "print(\"X shape is\",X.shape)\n",
    "print(\"y shape is\",y.shape)\n"
   ]
  },
  {
   "cell_type": "code",
   "execution_count": 5,
   "metadata": {},
   "outputs": [],
   "source": [
    "# BagOfWord词袋表示\n",
    "class BagOfWord:\n",
    "    def __init__(self, do_lower_case = False):\n",
    "        # 元组形式\n",
    "        self.vocab = {}\n",
    "        self.do_lower_case = do_lower_case\n",
    "\n",
    "    # 构建文档词汇字典\n",
    "    # CountVectorizer.fit\n",
    "    def fit(self, data_list):\n",
    "        for sentence in data_list:\n",
    "            if self.do_lower_case:\n",
    "                sentence = sentence.lower()\n",
    "            words = sentence.strip().split(\" \")\n",
    "            for word in words:\n",
    "                if word not in self.vocab:\n",
    "                    # 元素值为下标索引值\n",
    "                    self.vocab[word] = len(self.vocab)\n",
    "    \n",
    "    # document-term matrix, count the frequency\n",
    "    def transform(self, data_list):\n",
    "        vocab_size = len(self.vocab)\n",
    "        document_term_matrix = []\n",
    "        \n",
    "\n",
    "        for idx, sentence in enumerate(data_list):\n",
    "            temp = np.zeros(vocab_size,dtype='int8')\n",
    "            if self.do_lower_case:\n",
    "                sentence = sentence.lower()\n",
    "            words = sentence.strip().split(\" \")\n",
    "            for word in words:\n",
    "                vocab_idex = self.vocab[word]\n",
    "                temp[vocab_idex] += 1\n",
    "                \n",
    "            document_term_matrix.append(temp)\n",
    "\n",
    "        return document_term_matrix\n",
    "\n",
    "    def fit_transform(self, data_list):\n",
    "        self.fit(data_list)\n",
    "        return self.transform(data_list)\n"
   ]
  },
  {
   "cell_type": "code",
   "execution_count": 6,
   "metadata": {},
   "outputs": [],
   "source": [
    "# N-gram表示\n",
    "class NGram:\n",
    "    def __init__(self, ngram_range, do_lower_case = False):\n",
    "        # 元组形式\n",
    "        self.ngram_vocab = {}\n",
    "        self.ngram_range = ngram_range\n",
    "        self.do_lower_case = do_lower_case\n",
    "\n",
    "    # 构建文档词汇字典\n",
    "    # CountVectorizer.fit\n",
    "    def fit(self, data_list):\n",
    "        for gram in self.ngram_range:\n",
    "            for sentence in data_list:\n",
    "                if self.do_lower_case:\n",
    "                    sentence = sentence.lower()\n",
    "                words = sentence.strip().split(\" \")\n",
    "                for i in range(len(words) - gram + 1):\n",
    "                    n_gram_word = \"_\".join(words[i : i + gram])\n",
    "                    if n_gram_word not in self.ngram_vocab:\n",
    "                        # 元素值为下标索引值\n",
    "                        self.ngram_vocab[n_gram_word] = len(self.ngram_vocab)\n",
    "    \n",
    "    # document-term matrix, count the frequency\n",
    "    def transform(self, data_list):\n",
    "\n",
    "        vocab_size = len(self.ngram_vocab)\n",
    "        document_term_matrix = []\n",
    "        \n",
    "\n",
    "        for idx, sentence in enumerate(data_list):\n",
    "            temp = np.zeros(vocab_size,dtype='int8')\n",
    "            if self.do_lower_case:\n",
    "                sentence = sentence.lower()\n",
    "            words = sentence.strip().split(\" \")\n",
    "            for gram in self.ngram_range:\n",
    "                for i in range(len(words) - gram + 1):\n",
    "                    n_gram_word = \"_\".join(words[i : i + gram])\n",
    "                    if n_gram_word in self.ngram_vocab:\n",
    "                        vocab_idex = self.ngram_vocab[n_gram_word]\n",
    "                        temp[vocab_idex] += 1\n",
    "                   \n",
    "            document_term_matrix.append(temp)\n",
    "        \n",
    "        return document_term_matrix\n",
    "\n",
    "    def fit_transform(self, data_list):\n",
    "        self.fit(data_list)\n",
    "        return self.transform(data_list)"
   ]
  },
  {
   "cell_type": "markdown",
   "metadata": {},
   "source": [
    "## 分类器：Logistic regression"
   ]
  },
  {
   "cell_type": "code",
   "execution_count": 7,
   "metadata": {},
   "outputs": [],
   "source": [
    "def sigmoid(z):\n",
    "    g = np.zeros(z.size)\n",
    "    g = 1 / (1 + np.exp(-z))\n",
    "\n",
    "    return g"
   ]
  },
  {
   "cell_type": "code",
   "execution_count": 8,
   "metadata": {},
   "outputs": [],
   "source": [
    "import scipy.optimize as opt"
   ]
  },
  {
   "cell_type": "code",
   "execution_count": 9,
   "metadata": {},
   "outputs": [],
   "source": [
    "def lr_cost_function(theta, X, y, lmd):\n",
    "    m = y.size\n",
    "\n",
    "    # You need to return the following values correctly\n",
    "    cost = 0\n",
    "    grad = np.zeros(theta.shape)\n",
    "\n",
    "    h = sigmoid(np.dot(X, theta))\n",
    "    # 排除theta0\n",
    "    reg = lmd * np.sum(theta[1:] ** 2) / (2 * m)\n",
    "    sum = np.dot(y, np.log(h)) + np.dot(1 - y, np.log(1 - h))\n",
    "    cost = -sum / m + reg\n",
    "    error = h.flatten() - y\n",
    "\n",
    "    # np.sum当axis为0时, 是压缩行, 即将每一列的元素相加, 将矩阵压缩为一行\n",
    "    normal_grad = (1 / m) * np.sum(X * error[:, np.newaxis], 0)\n",
    "    # don't regularize the parameter theta 0,单独进行处理\n",
    "    grad[0] = normal_grad[0]\n",
    "    grad[1:] = normal_grad[1:] + lmd * theta[1:] / m\n",
    "\n",
    "    return cost, grad\n",
    "\n",
    "def one_vs_all(X, y, num_labels, lmd):\n",
    "    # Some useful variables\n",
    "    X = np.array(X)\n",
    "    (m, n) = X.shape\n",
    "\n",
    "    # You need to return the following variables correctly,设定theta的维度\n",
    "    # 总的参数向量维度是K×n(本例中为10×401)，相当于构建了K个分类器，每个分类器最后都会得到一个优化参数集\n",
    "    all_theta = np.zeros((num_labels, n + 1))\n",
    "\n",
    "    # Add ones to the X data 2D-array\n",
    "    X = np.c_[np.ones(m), X]\n",
    "\n",
    "    for i in range(num_labels):\n",
    "        # Initialize fitting parameters\n",
    "        theta_i = np.zeros(n + 1)\n",
    "        # y==i表示当前分类器需要判别 y属于哪个标签值,属于当前标签为1，不属于为0\n",
    "        y_i = (y == i)\n",
    "        print('Optimizing for label {}...'.format(i))\n",
    "\n",
    "        def cost_func(t):\n",
    "            return lr_cost_function(t, X, y_i, lmd)[0]\n",
    "\n",
    "        def grad_func(t):\n",
    "            return lr_cost_function(t, X, y_i, lmd)[1]\n",
    "\n",
    "        all_theta[i:], *unused = opt.fmin_cg(cost_func, fprime=grad_func, x0=theta_i,\n",
    "                                    maxiter=100, disp=False, full_output=True)\n",
    "        print('Done')\n",
    "\n",
    "    return all_theta\n",
    "\n",
    "def predict_one_vs_all(all_theta, X):\n",
    "    X = np.array(X)\n",
    "    m = X.shape[0]\n",
    "\n",
    "    # You need to return the following variable correctly;\n",
    "    p = np.zeros(m)\n",
    "\n",
    "    # Add ones to the X data matrix\n",
    "    X = np.c_[np.ones(m), X]\n",
    "    # 与之前的predict函数相同，计算出每个lable的h_i(X)，取出最大值\n",
    "\n",
    "\n",
    "    # 5000个样本，每个样本都有10个预测输出（概率值）\n",
    "    result = sigmoid(np.dot(all_theta, X.T))  # (10,401) (5000,401)^T=>(10,5000)\n",
    "    # np.roll沿着给定轴滚动数组元素。超出最后位置的元素将会滚动到第一个位置。\n",
    "    # （将a，沿着axis的方向，滚动shift长度）\n",
    "    result = np.roll(result, -1, axis=0)    # 5000列同时在垂直方向向上滚动1个位置\n",
    "    # np.vstack:按垂直方向（行顺序）堆叠数组构成一个新的数组\n",
    "    result = np.vstack((np.zeros(m), result))   #  (1,5000) + (10,5000)  = (11,5000)\n",
    "    # 先上移在添一行全为0的数组，是因为算出0的概率在第一行，9在最后一行\n",
    "    # 而np.argmax，默认按列方向搜索最大值,返回的是索引所在的行数，这样能消除下标以及10代表0的作用\n",
    "    p = np.argmax(result, axis=0)   # p = (1,5000)\n",
    "    return p"
   ]
  },
  {
   "cell_type": "markdown",
   "metadata": {},
   "source": [
    "## 分类器：softmax  regression"
   ]
  },
  {
   "cell_type": "code",
   "execution_count": 10,
   "metadata": {},
   "outputs": [],
   "source": [
    "def softmax(x):\n",
    "    x -= np.max(x, axis = 1, keepdims = True)\n",
    "    exp_x = np.exp(x)\n",
    "    z = exp_x / np.sum(exp_x, axis = 1, keepdims = True)\n",
    "    return z \n"
   ]
  },
  {
   "cell_type": "code",
   "execution_count": 11,
   "metadata": {},
   "outputs": [],
   "source": [
    "class softmaxRegression:\n",
    "    def __init__(self):\n",
    "        # 变量初始化\n",
    "        self.weight = None              # 模型权重\n",
    "        self.learning_rate = None       # 模型学习率\n",
    "        self.class_num = None           # 类别数量\n",
    "        self.m = None                   # 样本数量\n",
    "        self.n = None                   # 特征维数\n",
    "\n",
    "    def fit(self, X, y, learning_rate, epoch_num, class_num, print_steps, update_strategy):\n",
    "        X = np.array(X)\n",
    "        self.m, self.n = X.shape\n",
    "        self.class_num = class_num\n",
    "        self.weight = np.random.randn(self.n, self.class_num)\n",
    "        self.learning_rate = learning_rate\n",
    "\n",
    "        # 类别y转换为独热编码\n",
    "        y_one_hot = np.zeros((self.m, self.class_num))\n",
    "        for i in range(self.m):\n",
    "            y_one_hot[i][y[i]] = 1\n",
    "\n",
    "        # 记录损失函数值\n",
    "        loss_history = []\n",
    "        for epoch in range(epoch_num):\n",
    "            loss = 0\n",
    "\n",
    "            if update_strategy == \"stochastic\":\n",
    "                random_index = np.arange(len(X))\n",
    "                np.random.shuffle(random_index)\n",
    "                for index in list(random_index):\n",
    "                    \n",
    "                    #print(\"weight.shape\",self.weight.shape)\n",
    "                    X_i = X[index]\n",
    "                    z = np.dot(X_i,self.weight).reshape(1,self.class_num)\n",
    "                    \n",
    "                    predict = softmax(z).flatten()\n",
    "                    loss -= np.log(predict[y[index]])\n",
    "                    grad = X_i.reshape(self.n,1).dot((y_one_hot[index] - predict).reshape(1, self.class_num))\n",
    "                    \n",
    "                    self.weight += grad\n",
    "\n",
    "            \n",
    "            if update_strategy == \"batch\":\n",
    "                # X--(m,n), weight--(n,class_num)\n",
    "                \n",
    "                z = np.dot(X, self.weight)\n",
    "                predict = softmax(z)\n",
    "\n",
    "                # 构造同维度的梯度矩阵\n",
    "                grad = np.zeros_like(self.weight)\n",
    "\n",
    "                # 损失函数 & 梯度下降更新\n",
    "                for i in range(self.m):\n",
    "                    loss -= np.log(predict[i][y[i]])\n",
    "                    grad += X[i].reshape(self.n,1).dot((y_one_hot[i] - predict[i]).reshape(1, self.class_num))\n",
    "                \n",
    "                # grad = np.dot(X.T, (y_one_hot - predict))\n",
    "                self.weight += self.learning_rate * grad / self.m\n",
    "\n",
    "            loss /= self.m\n",
    "            loss_history.append(loss)\n",
    "            if print_steps != -1 and epoch % print_steps == 0:\n",
    "                print(\"epoch {} loss {}\".format(epoch, loss))\n",
    "        return loss_history\n",
    "\n",
    "    def predict(self, X):\n",
    "        z = np.dot(X, self.weight)\n",
    "        pred = softmax(z)\n",
    "        return pred.argmax(axis = 1)\n",
    "\n",
    "    def score(self, X, y):\n",
    "        pred = self.predict(X)\n",
    "        return np.sum(pred.reshape(y.shape) == y) / y.shape[0]"
   ]
  },
  {
   "cell_type": "markdown",
   "metadata": {},
   "source": [
    "## 建模训练过程"
   ]
  },
  {
   "cell_type": "markdown",
   "metadata": {},
   "source": [
    "## logistic回归"
   ]
  },
  {
   "cell_type": "code",
   "execution_count": 12,
   "metadata": {},
   "outputs": [
    {
     "name": "stdout",
     "output_type": "stream",
     "text": [
      "Optimizing for label 0...\n",
      "Done\n",
      "Optimizing for label 1...\n",
      "Done\n",
      "Optimizing for label 2...\n",
      "Done\n",
      "Optimizing for label 3...\n",
      "Done\n",
      "Optimizing for label 4...\n",
      "Done\n",
      "Training set accuracy: 88.75\n",
      "Validation set accuracy: 70.0\n"
     ]
    }
   ],
   "source": [
    "bow_model = BagOfWord(do_lower_case = True)\n",
    "ngram_model = NGram(ngram_range = (1,2), do_lower_case = True)\n",
    "X_bow = bow_model.fit_transform(X)\n",
    "X_ngram = ngram_model.fit_transform(X)\n",
    "\n",
    "lmd = 0.1\n",
    "num_labels = 5\n",
    "X_lr_train, X_lr_val, y_lr_train, y_lr_val = train_test_split(X_bow, y, test_size = 0.2, stratify = y)\n",
    "all_theta = one_vs_all(X_lr_train, y_lr_train, num_labels, lmd)\n",
    "pred_train = predict_one_vs_all(all_theta, X_lr_train)\n",
    "pred_val = predict_one_vs_all(all_theta, X_lr_val)\n",
    "\n",
    "print('Training set accuracy: {}'.format(np.mean(pred_train == y_lr_train)*100))\n",
    "print('Validation set accuracy: {}'.format(np.mean(pred_val == y_lr_val)*100))\n",
    "\n"
   ]
  },
  {
   "cell_type": "markdown",
   "metadata": {},
   "source": [
    "## softmax 回归"
   ]
  },
  {
   "cell_type": "code",
   "execution_count": 13,
   "metadata": {},
   "outputs": [
    {
     "name": "stdout",
     "output_type": "stream",
     "text": [
      "epoch 0 loss 3.138006104886811\n",
      "epoch 10 loss 1.8274986577380268\n",
      "epoch 20 loss 1.6688145503835656\n",
      "epoch 30 loss 1.557334008762635\n",
      "epoch 40 loss 1.396277148077277\n",
      "epoch 50 loss 1.6135737619394828\n",
      "epoch 60 loss 1.7044449930008099\n",
      "epoch 70 loss 1.5116526306712756\n",
      "epoch 80 loss 1.6861314690113027\n",
      "epoch 90 loss 1.6526146298990445\n"
     ]
    },
    {
     "data": {
      "image/png": "[encoded data removed]",
      "text/plain": [
       "<Figure size 432x288 with 1 Axes>"
      ]
     },
     "metadata": {
      "needs_background": "light"
     },
     "output_type": "display_data"
    },
    {
     "name": "stdout",
     "output_type": "stream",
     "text": [
      "Bow train 0.815 val 0.515\n",
      "epoch 0 loss 4.313526530164559\n",
      "epoch 10 loss 1.7320495051641134\n",
      "epoch 20 loss 0.8618892996642386\n",
      "epoch 30 loss 0.4627747105964803\n",
      "epoch 40 loss 0.3421051137776112\n",
      "epoch 50 loss 0.5422520676363425\n",
      "epoch 60 loss 0.13758157379271574\n",
      "epoch 70 loss 0.0644154457213858\n",
      "epoch 80 loss 0.06461538544085366\n",
      "epoch 90 loss 0.04032066233593362\n"
     ]
    },
    {
     "data": {
      "image/png": "[encoded data removed]",
      "text/plain": [
       "<Figure size 432x288 with 1 Axes>"
      ]
     },
     "metadata": {
      "needs_background": "light"
     },
     "output_type": "display_data"
    },
    {
     "name": "stdout",
     "output_type": "stream",
     "text": [
      "Ngram train 0.9975 val 0.55\n"
     ]
    }
   ],
   "source": [
    "X_bow_train, X_bow_val, y_bow_train, y_bow_val = train_test_split(X_bow, y, test_size = 0.2, stratify = y)\n",
    "X_ngram_train, X_ngram_val, y_ngram_train, y_ngram_val = train_test_split(X_ngram, y, test_size = 0.2, stratify = y)\n",
    "\n",
    "epoch = 100\n",
    "bow_learning_rate = 0.1\n",
    "ngram_learning_rate = 0.1\n",
    "\n",
    "model1 = softmaxRegression()\n",
    "history = model1.fit(X_bow_train, y_bow_train, epoch_num = epoch, class_num = 5, learning_rate = bow_learning_rate, print_steps = 10, update_strategy=\"stochastic\")\n",
    "plt.plot(np.arange(len(history)), np.array(history))\n",
    "plt.show()\n",
    "train_score1 = model1.score(X_bow_train, y_bow_train)\n",
    "val_score1 = model1.score(X_bow_val, y_bow_val)\n",
    "print(\"Bow train {} val {}\".format(train_score1,val_score1))\n",
    "\n",
    "model2 = softmaxRegression()\n",
    "history = model2.fit(X_ngram_train, y_ngram_train, epoch_num = epoch, class_num = 5, learning_rate = ngram_learning_rate, print_steps = 10, update_strategy=\"stochastic\")\n",
    "plt.plot(np.arange(len(history)), np.array(history))\n",
    "plt.show()\n",
    "train_score2 = model2.score(X_ngram_train, y_ngram_train)\n",
    "val_score2 = model2.score(X_ngram_val, y_ngram_val)\n",
    "print(\"Ngram train {} val {}\".format(train_score2,val_score2))"
   ]
  },
  {
   "cell_type": "markdown",
   "metadata": {},
   "source": [
    "## 测试集验证"
   ]
  },
  {
   "cell_type": "code",
   "execution_count": 14,
   "metadata": {},
   "outputs": [],
   "source": [
    "test_path = 'data/test.tsv'\n",
    "data_test = pd.read_csv(test_path,sep='\\t')\n",
    "test_id = data_test['PhraseId'].values\n",
    "x_test = data_test['Phrase'].values\n",
    "x_test_ngram = ngram_model.transform(x_test)\n",
    "pred_test = model2.predict(x_test_ngram)\n",
    "res = np.vstack((test_id, pred_test)).T\n",
    "submit = pd.DataFrame(res, columns = ['PhraseId', 'Sentiment'])\n",
    "submit.to_csv('./submit/submit_1.csv',index = False)"
   ]
  },
  {
   "cell_type": "code",
   "execution_count": null,
   "metadata": {},
   "outputs": [],
   "source": []
  }
 ],
 "metadata": {
  "interpreter": {
   "hash": "17b984ac83de4acb5c5ea27d9e8ebbfb95551cd9e509646bdc72d92dd2017a1d"
  },
  "kernelspec": {
   "display_name": "Python 3",
   "language": "python",
   "name": "python3"
  },
  "language_info": {
   "codemirror_mode": {
    "name": "ipython",
    "version": 3
   },
   "file_extension": ".py",
   "mimetype": "text/x-python",
   "name": "python",
   "nbconvert_exporter": "python",
   "pygments_lexer": "ipython3",
   "version": "3.7.10"
  }
 },
 "nbformat": 4,
 "nbformat_minor": 2
}
